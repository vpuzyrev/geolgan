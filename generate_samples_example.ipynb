{
 "cells": [
  {
   "cell_type": "code",
   "execution_count": null,
   "metadata": {},
   "outputs": [],
   "source": [
    "import numpy as np\n",
    "import tensorflow as tf\n",
    "import tensorflow.keras\n",
    "import PIL\n",
    "from tensorflow.keras import optimizers\n",
    "import multiprocessing as mp"
   ]
  },
  {
   "cell_type": "code",
   "execution_count": null,
   "metadata": {},
   "outputs": [],
   "source": [
    "# Device and version checks\n",
    "\n",
    "#!printenv\n",
    "\n",
    "#from tensorflow.python.client import device_lib\n",
    "#device_lib.list_local_devices()\n",
    "\n",
    "#print(tf.__version__)\n",
    "#tf.test.is_gpu_available()\n",
    "\n",
    "#print('PIL',PIL.__version__)\n",
    "\n",
    "#print(f'--> Number of CPUs: {mp.cpu_count()}')\n",
    "#print(f'--> Number of GPUs: {len(tf.config.experimental.list_physical_devices(\"GPU\"))}')\n",
    "\n",
    "#!nvcc stylegan2/test_nvcc.cu -o stylegan2/test_nvcc -run"
   ]
  },
  {
   "cell_type": "code",
   "execution_count": null,
   "metadata": {},
   "outputs": [],
   "source": [
    "# Set this to the number of GPUs on your system\n",
    "!CUDA_AVAILABLE_DEVICES=1\n",
    "\n",
    "!python3 stylegan2/run_generator.py generate-images --network=networks/stylegan2-stratigraphy6000.pkl --seeds=0-100 --truncation-psi=0.5 --result-dir=results/"
   ]
  },
  {
   "cell_type": "code",
   "execution_count": null,
   "metadata": {},
   "outputs": [],
   "source": []
  },
  {
   "cell_type": "code",
   "execution_count": null,
   "metadata": {},
   "outputs": [],
   "source": [
    "# Checking metrics (see https://github.com/NVlabs/stylegan2#evaluation-metrics)\n",
    "!CUDA_AVAILABLE_DEVICES=1\n",
    "\n",
    "!python3 stylegan2/run_metrics.py --data-dir=datasets --network=networks/stylegan2-stratigraphy6000.pkl --metrics=fid50k --dataset=data5000_strati"
   ]
  },
  {
   "cell_type": "code",
   "execution_count": null,
   "metadata": {},
   "outputs": [],
   "source": []
  }
 ],
 "metadata": {
  "kernelspec": {
   "display_name": "Python 3",
   "language": "python",
   "name": "python3"
  },
  "language_info": {
   "codemirror_mode": {
    "name": "ipython",
    "version": 3
   },
   "file_extension": ".py",
   "mimetype": "text/x-python",
   "name": "python",
   "nbconvert_exporter": "python",
   "pygments_lexer": "ipython3",
   "version": "3.6.9"
  }
 },
 "nbformat": 4,
 "nbformat_minor": 2
}
